{
 "cells": [
  {
   "cell_type": "code",
   "execution_count": 4,
   "id": "initial_id",
   "metadata": {
    "ExecuteTime": {
     "end_time": "2025-05-19T00:51:04.141702Z",
     "start_time": "2025-05-19T00:51:04.061694Z"
    },
    "collapsed": true
   },
   "outputs": [
    {
     "name": "stdout",
     "output_type": "stream",
     "text": [
      "Plots saved to: txt_logs/plots\n"
     ]
    }
   ],
   "source": [
    "import os\n",
    "import re\n",
    "import matplotlib.pyplot as plt\n",
    "\n",
    "# Set the directory containing the log files\n",
    "log_dir = \"txt_logs\"  # Replace with your directory path\n",
    "\n",
    "# Regular expression to match the data\n",
    "pattern = re.compile(r\"Frame (\\d+), AvgReward\\(10\\): ([\\d.]+)\")\n",
    "\n",
    "# Create output directory for plots\n",
    "output_dir = os.path.join(log_dir, \"plots\")\n",
    "os.makedirs(output_dir, exist_ok=True)\n",
    "\n",
    "# Process each .txt file in the directory\n",
    "for filename in os.listdir(log_dir):\n",
    "    if filename.endswith(\".txt\"):\n",
    "        file_path = os.path.join(log_dir, filename)\n",
    "\n",
    "        frames = []\n",
    "        avg_rewards = []\n",
    "\n",
    "        with open(file_path, \"r\") as file:\n",
    "            for line in file:\n",
    "                match = pattern.search(line)\n",
    "                if match:\n",
    "                    frames.append(int(match.group(1)))\n",
    "                    avg_rewards.append(float(match.group(2)))\n",
    "\n",
    "        # Skip if no valid data\n",
    "        if not frames:\n",
    "            continue\n",
    "\n",
    "        # Plot and save\n",
    "        plt.figure(figsize=(10, 5))\n",
    "        plt.plot(frames, avg_rewards, marker=\"o\", linestyle=\"-\")\n",
    "        plt.xlabel(\"Frame\")\n",
    "        plt.ylabel(\"Average Reward (10)\")\n",
    "        plt.title(f\"Avg Reward Over Time: {filename}\")\n",
    "        plt.grid(True)\n",
    "        plt.tight_layout()\n",
    "\n",
    "        output_path = os.path.join(output_dir, f\"{os.path.splitext(filename)[0]}.png\")\n",
    "        plt.savefig(output_path)\n",
    "        plt.close()\n",
    "\n",
    "print(\"Plots saved to:\", output_dir)"
   ]
  }
 ],
 "metadata": {
  "kernelspec": {
   "display_name": "Python 3",
   "language": "python",
   "name": "python3"
  },
  "language_info": {
   "codemirror_mode": {
    "name": "ipython",
    "version": 2
   },
   "file_extension": ".py",
   "mimetype": "text/x-python",
   "name": "python",
   "nbconvert_exporter": "python",
   "pygments_lexer": "ipython2",
   "version": "2.7.6"
  }
 },
 "nbformat": 4,
 "nbformat_minor": 5
}
